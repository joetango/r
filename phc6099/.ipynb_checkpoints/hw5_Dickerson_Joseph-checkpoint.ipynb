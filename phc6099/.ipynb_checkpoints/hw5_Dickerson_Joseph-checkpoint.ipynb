{
 "cells": [
  {
   "cell_type": "markdown",
   "id": "68449755",
   "metadata": {},
   "source": [
    "# HW5\n",
    "### Total points: 100 (5% of final grade).\n",
    "### Due: 11:59 pm, Nov 21st, 2024\n",
    "## Name: Joseph Dickerson"
   ]
  },
  {
   "cell_type": "code",
   "execution_count": 1,
   "id": "db86ca34",
   "metadata": {
    "tags": []
   },
   "outputs": [],
   "source": [
    "## you may need to use these two packages\n",
    "import numpy as np\n",
    "import pandas as pd\n"
   ]
  },
  {
   "cell_type": "markdown",
   "id": "ee1b109f",
   "metadata": {},
   "source": [
    "## Question 1. Numpy create. (5 pts)\n",
    "Create a numpy array with 4 rows and 3 columns and with all elements being 1.\n",
    "Replace the values in a sub-array, defined by the last two columns and last two rows, with 10.\n",
    "Print out this array matrix.\n"
   ]
  },
  {
   "cell_type": "code",
   "execution_count": 2,
   "id": "fb37b878",
   "metadata": {
    "tags": []
   },
   "outputs": [
    {
     "name": "stdout",
     "output_type": "stream",
     "text": [
      "[[ 1.  1.  1.]\n",
      " [ 1.  1.  1.]\n",
      " [ 1. 10. 10.]\n",
      " [ 1. 10. 10.]]\n"
     ]
    }
   ],
   "source": [
    "array = np.ones((4,3))\n",
    "array[2:, 1:] = 10\n",
    "\n",
    "print(array)"
   ]
  },
  {
   "cell_type": "markdown",
   "id": "ec4ae0b2",
   "metadata": {},
   "source": [
    "## Question 2. Numpy split and combine. (5 pts)\n",
    "Split the following array (in the code section) vertically into three sub-arrays, \n",
    "and then horizentally combine these sub-arrays.\n",
    "You should expect to see the following results.\n",
    "\n",
    "array([[ 0,  1,  2,  3,  8,  9, 10, 11, 16, 17, 18, 19],  \n",
    "&nbsp; &nbsp; &nbsp; &nbsp; [ 4,  5,  6,  7, 12, 13, 14, 15, 20, 21, 22, 23]])"
   ]
  },
  {
   "cell_type": "code",
   "execution_count": 3,
   "id": "ec54da45",
   "metadata": {},
   "outputs": [
    {
     "data": {
      "text/plain": [
       "array([[ 0,  1,  2,  3,  8,  9, 10, 11, 16, 17, 18, 19],\n",
       "       [ 4,  5,  6,  7, 12, 13, 14, 15, 20, 21, 22, 23]])"
      ]
     },
     "execution_count": 3,
     "metadata": {},
     "output_type": "execute_result"
    }
   ],
   "source": [
    "data = np.arange(24).reshape(6,4)\n",
    "\n",
    "split_array = np.vsplit(data, 3)\n",
    "\n",
    "np.hstack(split_array)"
   ]
  },
  {
   "cell_type": "markdown",
   "id": "c2bd0a19",
   "metadata": {},
   "source": [
    "## Question 3. Frequency count. (5 pts)\n",
    "$\\pi$ with 100 digits after decimal is given below. There are a total of 101 digits. Which digit has the highest frequency? Purely use  code to extract this digit.\n"
   ]
  },
  {
   "cell_type": "code",
   "execution_count": 4,
   "id": "fb2448a4",
   "metadata": {},
   "outputs": [
    {
     "name": "stdout",
     "output_type": "stream",
     "text": [
      "9\n"
     ]
    }
   ],
   "source": [
    "PI = \"3.1415926535897932384626433832795028841971693993751058209749445923078164062862089986280348253421170679\"\n",
    "\n",
    "def frequency(x):\n",
    "    x = x.replace(\".\", \"\")\n",
    "    digits = np.array(list(x), dtype=int)\n",
    "    unique_digits, counts = np.unique(digits, return_counts=True)\n",
    "    highest_frequency = unique_digits[np.argmax(counts)]\n",
    "\n",
    "    return highest_frequency\n",
    "\n",
    "print(frequency(PI))"
   ]
  },
  {
   "cell_type": "markdown",
   "id": "5b95832f",
   "metadata": {},
   "source": [
    "## Question 4. Broadcasting. (5 pts)\n",
    "A data matrix (3 rows and 5 columns) is given as the following.\n",
    "Calculate the row median (median value for each row). \n",
    "Then multiply this row median with the data matrix (each column of the data matrix)."
   ]
  },
  {
   "cell_type": "code",
   "execution_count": 5,
   "id": "7a4dca45",
   "metadata": {},
   "outputs": [
    {
     "name": "stdout",
     "output_type": "stream",
     "text": [
      "[[195. 182. 169. 156. 143.]\n",
      " [ 80.  72.  64.  56.  48.]\n",
      " [ 15.  12.   9.   6.   3.]]\n"
     ]
    }
   ],
   "source": [
    "data2d = np.arange(15,0,-1).reshape(3,5)\n",
    "\n",
    "medians = np.median(data2d, axis=1)\n",
    "\n",
    "medians = medians.reshape(3,1)\n",
    "\n",
    "print(medians * data2d)"
   ]
  },
  {
   "cell_type": "markdown",
   "id": "88479790",
   "metadata": {},
   "source": [
    "## Question 5. Broadcasting and matrix multiplication. (5 pts)\n",
    "A data matrix (3 rows and 5 columns) is given as the following.\n",
    "Calculate the column median (median value for each column). \n",
    "Then do matrix multiplication of the data matrix (3 by 5) with this column mean (5 by 1)."
   ]
  },
  {
   "cell_type": "code",
   "execution_count": 6,
   "id": "0fcb713b",
   "metadata": {},
   "outputs": [
    {
     "name": "stdout",
     "output_type": "stream",
     "text": [
      "[[530.]\n",
      " [330.]\n",
      " [130.]]\n"
     ]
    }
   ],
   "source": [
    "data2d = np.arange(15,0,-1).reshape(3,5)\n",
    "\n",
    "medians2 = np.median(data2d, axis=0)\n",
    "\n",
    "medians2 = medians2.reshape(5,1)\n",
    "\n",
    "\n",
    "print(data2d @ medians2)"
   ]
  },
  {
   "cell_type": "markdown",
   "id": "619cea0c",
   "metadata": {},
   "source": [
    "## Question 6. Create a Series. (5 pts)\n",
    "Using list comprehension to create the following Series:\n",
    "\n",
    "101 &nbsp; &nbsp; &nbsp; &nbsp; 15.0  \n",
    "102 &nbsp; &nbsp; &nbsp; &nbsp; 25.0  \n",
    "103 &nbsp; &nbsp; &nbsp; &nbsp; 35.0  \n",
    "104 &nbsp; &nbsp; &nbsp; &nbsp; 45.0  \n",
    "105 &nbsp; &nbsp; &nbsp; &nbsp; 55.0  \n",
    "106 &nbsp; &nbsp; &nbsp; &nbsp; 65.0  \n",
    "107 &nbsp; &nbsp; &nbsp; &nbsp; 75.0  \n",
    "108 &nbsp; &nbsp; &nbsp; &nbsp; 85.0  \n",
    "109 &nbsp; &nbsp; &nbsp; &nbsp; 95.0  \n",
    "dtype: float64  \n"
   ]
  },
  {
   "cell_type": "code",
   "execution_count": 7,
   "id": "f2d424cd",
   "metadata": {},
   "outputs": [
    {
     "name": "stdout",
     "output_type": "stream",
     "text": [
      "101    15.0\n",
      "102    25.0\n",
      "103    35.0\n",
      "104    45.0\n",
      "105    55.0\n",
      "106    65.0\n",
      "107    75.0\n",
      "108    85.0\n",
      "109    95.0\n",
      "dtype: float64\n"
     ]
    }
   ],
   "source": [
    "data = [x * 10.0 + 5 for x in range(1, 10)]\n",
    "\n",
    "series = pd.Series(data, index=range(101,110))\n",
    "\n",
    "print(series)"
   ]
  },
  {
   "cell_type": "markdown",
   "id": "ba817d60",
   "metadata": {
    "tags": []
   },
   "source": [
    "## Question 7. Create DataFrame. (5 pts)\n",
    "Create the following DataFrame object and assign it to a variable. \n",
    "Convert the first column (company) to index. \n",
    "Print out this variable.\n",
    "\n",
    "\n",
    "         company   price   ticker\n",
    "    0     Amazon  2375.0     AMZN\n",
    "    1  Microsoft   178.6     MSFT\n",
    "    2      Apple   179.2     AAPL\n"
   ]
  },
  {
   "cell_type": "code",
   "execution_count": 8,
   "id": "bafc0e43",
   "metadata": {},
   "outputs": [
    {
     "name": "stdout",
     "output_type": "stream",
     "text": [
      "     company   price ticker\n",
      "0     Amazon  2375.0   AMZN\n",
      "1  Microsoft   178.6   MSFT\n",
      "2      Apple   179.2   AAPL\n"
     ]
    }
   ],
   "source": [
    "data = {\n",
    "    'company': ['Amazon', 'Microsoft', 'Apple'],\n",
    "    'price': [2375.0, 178.6, 179.2],\n",
    "    'ticker': ['AMZN', 'MSFT', 'AAPL']\n",
    "}\n",
    "\n",
    "dataframe = pd.DataFrame(data)\n",
    "\n",
    "dataframe.set_index(\"company\")\n",
    "\n",
    "print(dataframe)\n"
   ]
  },
  {
   "cell_type": "markdown",
   "id": "603c892c",
   "metadata": {},
   "source": [
    "## Question 8. File read. (5 pts)\n",
    "The stock price data is located here: https://caleb-huo.github.io/teaching/data/Python/stock_price.csv.\n",
    "Read in this file to create a dataFrame using Pandas and set the Date colunms as the index (should make it as datetimeindex).\n",
    "Print out the last 10 lines of this dataFrame"
   ]
  },
  {
   "cell_type": "code",
   "execution_count": 9,
   "id": "292fcab6",
   "metadata": {},
   "outputs": [
    {
     "name": "stdout",
     "output_type": "stream",
     "text": [
      "           Date        TSLA        AAPL       GOOG        META\n",
      "990  2022-11-01  227.820007  150.400497  90.500000   95.199997\n",
      "991  2022-11-02  214.979996  144.789810  87.070000   90.540001\n",
      "992  2022-11-03  215.309998  138.650009  83.489998   88.910004\n",
      "993  2022-11-04  207.470001  138.380005  86.699997   90.790001\n",
      "994  2022-11-07  197.080002  138.919998  88.650002   96.720001\n",
      "995  2022-11-08  191.300003  139.500000  88.910004   96.470001\n",
      "996  2022-11-09  177.589996  134.869995  87.400002  101.470001\n",
      "997  2022-11-10  190.720001  146.869995  94.169998  111.870003\n",
      "998  2022-11-11  195.970001  149.699997  96.730003  113.019997\n",
      "999  2022-11-14  193.427994  148.830002  95.690002  115.440002\n"
     ]
    }
   ],
   "source": [
    "file = pd.read_csv(\"https://caleb-huo.github.io/teaching/data/Python/stock_price.csv\")\n",
    "\n",
    "df = pd.DataFrame(file)\n",
    "\n",
    "print(df[-10:])"
   ]
  },
  {
   "cell_type": "markdown",
   "id": "3b281f56",
   "metadata": {},
   "source": [
    "## Question 9. Apply functions for dataFrame. (5 pts)\n",
    "For the stock price data in January 2022, what is the coefficient of variation $CV = \\frac{\\sigma}{\\mu}$ for each stock? where $\\sigma$ indicates standard deviation, and $\\mu$ indicates mean."
   ]
  },
  {
   "cell_type": "code",
   "execution_count": 10,
   "id": "bcf1a6c1",
   "metadata": {},
   "outputs": [
    {
     "name": "stdout",
     "output_type": "stream",
     "text": [
      "TSLA    0.094070\n",
      "AAPL    0.039801\n",
      "GOOG    0.037609\n",
      "META    0.045650\n",
      "dtype: float64\n"
     ]
    }
   ],
   "source": [
    "date_range = (df[\"Date\"] >= \"2022-01-01\") & (df[\"Date\"] <= \"2022-01-31\")\n",
    "\n",
    "jan_data = df.loc[date_range].set_index(\"Date\")\n",
    "\n",
    "coef_vars = (jan_data.std() / jan_data.mean())\n",
    "\n",
    "print(coef_vars)"
   ]
  },
  {
   "cell_type": "markdown",
   "id": "4315e9b4",
   "metadata": {},
   "source": [
    "## Question 10. Apply functions for dataFrame. (5 pts)\n",
    "First, calculate daily stock return, which is defined as $\\frac{price_{day1} - price_{day0}}{price_{day0}}$. Here, day1 is the currentm trading day and day0 is the previous trading day. For each stock, what is the frequency of the following events:\n",
    "1. daily stock return >= 0.05\n",
    "2. daily stock return >= 0.10\n",
    "3. daily stock return >= 0.15\n",
    "\n",
    "Prepare the result as a dataFrame. In this question, you need to consider the data in all available time. You may want to use the pct_change method (https://pandas.pydata.org/docs/reference/api/pandas.DataFrame.pct_change.html). "
   ]
  },
  {
   "cell_type": "code",
   "execution_count": 11,
   "id": "57306a25",
   "metadata": {},
   "outputs": [
    {
     "data": {
      "text/html": [
       "<div>\n",
       "<style scoped>\n",
       "    .dataframe tbody tr th:only-of-type {\n",
       "        vertical-align: middle;\n",
       "    }\n",
       "\n",
       "    .dataframe tbody tr th {\n",
       "        vertical-align: top;\n",
       "    }\n",
       "\n",
       "    .dataframe thead th {\n",
       "        text-align: right;\n",
       "    }\n",
       "</style>\n",
       "<table border=\"1\" class=\"dataframe\">\n",
       "  <thead>\n",
       "    <tr style=\"text-align: right;\">\n",
       "      <th></th>\n",
       "      <th>0.05</th>\n",
       "      <th>0.10</th>\n",
       "      <th>0.15</th>\n",
       "    </tr>\n",
       "  </thead>\n",
       "  <tbody>\n",
       "    <tr>\n",
       "      <th>TSLA</th>\n",
       "      <td>93</td>\n",
       "      <td>22</td>\n",
       "      <td>5</td>\n",
       "    </tr>\n",
       "    <tr>\n",
       "      <th>AAPL</th>\n",
       "      <td>17</td>\n",
       "      <td>3</td>\n",
       "      <td>0</td>\n",
       "    </tr>\n",
       "    <tr>\n",
       "      <th>GOOG</th>\n",
       "      <td>17</td>\n",
       "      <td>1</td>\n",
       "      <td>0</td>\n",
       "    </tr>\n",
       "    <tr>\n",
       "      <th>META</th>\n",
       "      <td>36</td>\n",
       "      <td>4</td>\n",
       "      <td>1</td>\n",
       "    </tr>\n",
       "  </tbody>\n",
       "</table>\n",
       "</div>"
      ],
      "text/plain": [
       "      0.05  0.10  0.15\n",
       "TSLA    93    22     5\n",
       "AAPL    17     3     0\n",
       "GOOG    17     1     0\n",
       "META    36     4     1"
      ]
     },
     "execution_count": 11,
     "metadata": {},
     "output_type": "execute_result"
    }
   ],
   "source": [
    "df1 = df.set_index(\"Date\").pct_change()\n",
    "\n",
    "def thresh_count(df, thresholds=[0.05, 0.10, 0.15]):\n",
    "    count = pd.DataFrame(index=df.columns, columns=thresholds)\n",
    "\n",
    "    for threshold in thresholds:    \n",
    "        count[threshold] = (df >= threshold).sum()\n",
    "    \n",
    "    return count\n",
    "\n",
    "thresh_count(df1)"
   ]
  },
  {
   "cell_type": "markdown",
   "id": "47b08117",
   "metadata": {},
   "source": [
    "## Question 11. Daily return frequency summary. (5 pts)\n",
    "For stock TSLA, count the frequency of the daily stock return of the following categories:  \n",
    "(-inf, -0.1]  \n",
    "(-0.1, -0.05]  \n",
    "(-0.05, -0.01]  \n",
    "(-0.01, 0.01]  \n",
    "(0.01, 0.05]  \n",
    "(0.05, 0.1]  \n",
    "(0.1, inf]  \n",
    "\n",
    "In this question, you need to consider the data in all available time."
   ]
  },
  {
   "cell_type": "code",
   "execution_count": 12,
   "id": "31eec87c",
   "metadata": {},
   "outputs": [
    {
     "data": {
      "text/plain": [
       "TSLA\n",
       "(-inf, -0.1]       14\n",
       "(-0.1, -0.05]      65\n",
       "(-0.05, -0.01]    235\n",
       "(-0.01, 0.01]     292\n",
       "(0.01, 0.05]      300\n",
       "(0.05, 0.1]        71\n",
       "(0.1, inf]         22\n",
       "Name: count, dtype: int64"
      ]
     },
     "execution_count": 12,
     "metadata": {},
     "output_type": "execute_result"
    }
   ],
   "source": [
    "def freq_count(df, column):\n",
    "    bins = [-float(\"inf\"), -0.1, -0.05, -0.01, 0.01, 0.05, 0.1, float(\"inf\")]\n",
    "    categories = pd.cut(df[column], bins=bins)\n",
    "    counts = categories.value_counts().sort_index()\n",
    "    return counts\n",
    "\n",
    "freq_count(df1, \"TSLA\")"
   ]
  },
  {
   "cell_type": "markdown",
   "id": "69600631",
   "metadata": {},
   "source": [
    "## Question 12. Groupby. (5 pts)\n",
    "In year 2021, what is the mean stock return for each stock in each month?\n",
    "Prepare the result as a dataFrame, in which month is the index, and stock symbol is the column names."
   ]
  },
  {
   "cell_type": "code",
   "execution_count": 13,
   "id": "cdc8e1e4",
   "metadata": {},
   "outputs": [
    {
     "data": {
      "text/html": [
       "<div>\n",
       "<style scoped>\n",
       "    .dataframe tbody tr th:only-of-type {\n",
       "        vertical-align: middle;\n",
       "    }\n",
       "\n",
       "    .dataframe tbody tr th {\n",
       "        vertical-align: top;\n",
       "    }\n",
       "\n",
       "    .dataframe thead th {\n",
       "        text-align: right;\n",
       "    }\n",
       "</style>\n",
       "<table border=\"1\" class=\"dataframe\">\n",
       "  <thead>\n",
       "    <tr style=\"text-align: right;\">\n",
       "      <th></th>\n",
       "      <th>TSLA</th>\n",
       "      <th>AAPL</th>\n",
       "      <th>GOOG</th>\n",
       "      <th>META</th>\n",
       "    </tr>\n",
       "    <tr>\n",
       "      <th>Date</th>\n",
       "      <th></th>\n",
       "      <th></th>\n",
       "      <th></th>\n",
       "      <th></th>\n",
       "    </tr>\n",
       "  </thead>\n",
       "  <tbody>\n",
       "    <tr>\n",
       "      <th>1</th>\n",
       "      <td>0.006952</td>\n",
       "      <td>-0.000013</td>\n",
       "      <td>0.002684</td>\n",
       "      <td>-0.002667</td>\n",
       "    </tr>\n",
       "    <tr>\n",
       "      <th>2</th>\n",
       "      <td>-0.007729</td>\n",
       "      <td>-0.004269</td>\n",
       "      <td>0.005698</td>\n",
       "      <td>-0.000036</td>\n",
       "    </tr>\n",
       "    <tr>\n",
       "      <th>3</th>\n",
       "      <td>0.001026</td>\n",
       "      <td>0.000574</td>\n",
       "      <td>0.000812</td>\n",
       "      <td>0.006093</td>\n",
       "    </tr>\n",
       "    <tr>\n",
       "      <th>4</th>\n",
       "      <td>0.003404</td>\n",
       "      <td>0.003591</td>\n",
       "      <td>0.007412</td>\n",
       "      <td>0.004911</td>\n",
       "    </tr>\n",
       "    <tr>\n",
       "      <th>5</th>\n",
       "      <td>-0.005912</td>\n",
       "      <td>-0.002470</td>\n",
       "      <td>0.000138</td>\n",
       "      <td>0.000701</td>\n",
       "    </tr>\n",
       "    <tr>\n",
       "      <th>6</th>\n",
       "      <td>0.004091</td>\n",
       "      <td>0.004349</td>\n",
       "      <td>0.001776</td>\n",
       "      <td>0.002657</td>\n",
       "    </tr>\n",
       "    <tr>\n",
       "      <th>7</th>\n",
       "      <td>0.000728</td>\n",
       "      <td>0.003096</td>\n",
       "      <td>0.003701</td>\n",
       "      <td>0.001323</td>\n",
       "    </tr>\n",
       "    <tr>\n",
       "      <th>8</th>\n",
       "      <td>0.003323</td>\n",
       "      <td>0.001957</td>\n",
       "      <td>0.003348</td>\n",
       "      <td>0.002920</td>\n",
       "    </tr>\n",
       "    <tr>\n",
       "      <th>9</th>\n",
       "      <td>0.002631</td>\n",
       "      <td>-0.003267</td>\n",
       "      <td>-0.004085</td>\n",
       "      <td>-0.005173</td>\n",
       "    </tr>\n",
       "    <tr>\n",
       "      <th>10</th>\n",
       "      <td>0.017770</td>\n",
       "      <td>0.002785</td>\n",
       "      <td>0.005229</td>\n",
       "      <td>-0.002032</td>\n",
       "    </tr>\n",
       "    <tr>\n",
       "      <th>11</th>\n",
       "      <td>0.002249</td>\n",
       "      <td>0.004870</td>\n",
       "      <td>-0.001799</td>\n",
       "      <td>0.000298</td>\n",
       "    </tr>\n",
       "    <tr>\n",
       "      <th>12</th>\n",
       "      <td>-0.002938</td>\n",
       "      <td>0.003422</td>\n",
       "      <td>0.000778</td>\n",
       "      <td>0.001832</td>\n",
       "    </tr>\n",
       "  </tbody>\n",
       "</table>\n",
       "</div>"
      ],
      "text/plain": [
       "          TSLA      AAPL      GOOG      META\n",
       "Date                                        \n",
       "1     0.006952 -0.000013  0.002684 -0.002667\n",
       "2    -0.007729 -0.004269  0.005698 -0.000036\n",
       "3     0.001026  0.000574  0.000812  0.006093\n",
       "4     0.003404  0.003591  0.007412  0.004911\n",
       "5    -0.005912 -0.002470  0.000138  0.000701\n",
       "6     0.004091  0.004349  0.001776  0.002657\n",
       "7     0.000728  0.003096  0.003701  0.001323\n",
       "8     0.003323  0.001957  0.003348  0.002920\n",
       "9     0.002631 -0.003267 -0.004085 -0.005173\n",
       "10    0.017770  0.002785  0.005229 -0.002032\n",
       "11    0.002249  0.004870 -0.001799  0.000298\n",
       "12   -0.002938  0.003422  0.000778  0.001832"
      ]
     },
     "execution_count": 13,
     "metadata": {},
     "output_type": "execute_result"
    }
   ],
   "source": [
    "df1.index = pd.to_datetime(df1.index)\n",
    "\n",
    "df2 = df1.loc[\"2021-01-01\":\"2021-12-31\"]\n",
    "\n",
    "def mean_return(df):\n",
    "    mean_returns = df.groupby(df.index.month).mean()\n",
    "    return mean_returns\n",
    "\n",
    "df_groups = mean_return(df2)\n",
    "\n",
    "df_groups"
   ]
  },
  {
   "cell_type": "markdown",
   "id": "9039dfe0",
   "metadata": {},
   "source": [
    "## Question 13. Wide format to long format. (5 pts)\n",
    "Convert the dataFrame in the previous question into long format.\n",
    "The results should have three columns: month, stock symbol, and the mean stock return.\n",
    "Print the first 10 lines of the results."
   ]
  },
  {
   "cell_type": "code",
   "execution_count": 14,
   "id": "87e24a0e",
   "metadata": {},
   "outputs": [
    {
     "name": "stdout",
     "output_type": "stream",
     "text": [
      "   Date variable     value\n",
      "0     1     TSLA  0.006952\n",
      "1     2     TSLA -0.007729\n",
      "2     3     TSLA  0.001026\n",
      "3     4     TSLA  0.003404\n",
      "4     5     TSLA -0.005912\n",
      "5     6     TSLA  0.004091\n",
      "6     7     TSLA  0.000728\n",
      "7     8     TSLA  0.003323\n",
      "8     9     TSLA  0.002631\n",
      "9    10     TSLA  0.017770\n"
     ]
    }
   ],
   "source": [
    "df_long = df_groups.reset_index().melt(id_vars=\"Date\", value_vars=[\"TSLA\", \"AAPL\", \"GOOG\", \"META\"])\n",
    "\n",
    "print(df_long[0:10])"
   ]
  },
  {
   "cell_type": "markdown",
   "id": "b18aac38",
   "metadata": {},
   "source": [
    "## Question 14. Long format to wide format. (5 pts)\n",
    "Convert the dataFrame in the previous question into wide format.\n",
    "The results should have (1) 12 columns indicating 12 months; \n",
    "(2) 4 stock symbols as index.\n",
    "Each cell in the dataFrame indicates the return of a stock at a certain month.\n"
   ]
  },
  {
   "cell_type": "code",
   "execution_count": 15,
   "id": "61c1a895",
   "metadata": {},
   "outputs": [
    {
     "name": "stdout",
     "output_type": "stream",
     "text": [
      "             value                                                    \\\n",
      "Date            1         2         3         4         5         6    \n",
      "variable                                                               \n",
      "AAPL     -0.000013 -0.004269  0.000574  0.003591 -0.002470  0.004349   \n",
      "GOOG      0.002684  0.005698  0.000812  0.007412  0.000138  0.001776   \n",
      "META     -0.002667 -0.000036  0.006093  0.004911  0.000701  0.002657   \n",
      "TSLA      0.006952 -0.007729  0.001026  0.003404 -0.005912  0.004091   \n",
      "\n",
      "                                                                      \n",
      "Date            7         8         9         10        11        12  \n",
      "variable                                                              \n",
      "AAPL      0.003096  0.001957 -0.003267  0.002785  0.004870  0.003422  \n",
      "GOOG      0.003701  0.003348 -0.004085  0.005229 -0.001799  0.000778  \n",
      "META      0.001323  0.002920 -0.005173 -0.002032  0.000298  0.001832  \n",
      "TSLA      0.000728  0.003323  0.002631  0.017770  0.002249 -0.002938  \n"
     ]
    }
   ],
   "source": [
    "df_wide = df_long.pivot(index=\"variable\", columns=\"Date\")\n",
    "\n",
    "print(df_wide)"
   ]
  },
  {
   "cell_type": "markdown",
   "id": "a142cbcb",
   "metadata": {},
   "source": [
    "## Question 15. Max and Min. (5 pts)\n",
    "Based on the dataFrame (mean stock return for each month) in **Question 12**,\n",
    "for each stock,\n",
    "calculate 4 attributes including: \n",
    "(1) the max \"mean stock return\", \n",
    "(2) the month of the max \"mean stock return\",\n",
    "(3) the min \"mean stock return\", \n",
    "and (4) the month of the min \"mean stock return\".\n",
    "Prepare the results as a dataFrame (stocks on rows and the 4 attributes on columns).\n",
    "Make sure the month is rendered as integer.\n"
   ]
  },
  {
   "cell_type": "code",
   "execution_count": 16,
   "id": "f6bedf5f",
   "metadata": {},
   "outputs": [
    {
     "data": {
      "text/html": [
       "<div>\n",
       "<style scoped>\n",
       "    .dataframe tbody tr th:only-of-type {\n",
       "        vertical-align: middle;\n",
       "    }\n",
       "\n",
       "    .dataframe tbody tr th {\n",
       "        vertical-align: top;\n",
       "    }\n",
       "\n",
       "    .dataframe thead th {\n",
       "        text-align: right;\n",
       "    }\n",
       "</style>\n",
       "<table border=\"1\" class=\"dataframe\">\n",
       "  <thead>\n",
       "    <tr style=\"text-align: right;\">\n",
       "      <th></th>\n",
       "      <th>max_return</th>\n",
       "      <th>max_month</th>\n",
       "      <th>min_return</th>\n",
       "      <th>min_month</th>\n",
       "    </tr>\n",
       "  </thead>\n",
       "  <tbody>\n",
       "    <tr>\n",
       "      <th>TSLA</th>\n",
       "      <td>0.01777</td>\n",
       "      <td>10</td>\n",
       "      <td>-0.007729</td>\n",
       "      <td>2</td>\n",
       "    </tr>\n",
       "    <tr>\n",
       "      <th>AAPL</th>\n",
       "      <td>0.00487</td>\n",
       "      <td>11</td>\n",
       "      <td>-0.004269</td>\n",
       "      <td>2</td>\n",
       "    </tr>\n",
       "    <tr>\n",
       "      <th>GOOG</th>\n",
       "      <td>0.007412</td>\n",
       "      <td>4</td>\n",
       "      <td>-0.004085</td>\n",
       "      <td>9</td>\n",
       "    </tr>\n",
       "    <tr>\n",
       "      <th>META</th>\n",
       "      <td>0.006093</td>\n",
       "      <td>3</td>\n",
       "      <td>-0.005173</td>\n",
       "      <td>9</td>\n",
       "    </tr>\n",
       "  </tbody>\n",
       "</table>\n",
       "</div>"
      ],
      "text/plain": [
       "     max_return max_month min_return min_month\n",
       "TSLA    0.01777        10  -0.007729         2\n",
       "AAPL    0.00487        11  -0.004269         2\n",
       "GOOG   0.007412         4  -0.004085         9\n",
       "META   0.006093         3  -0.005173         9"
      ]
     },
     "execution_count": 16,
     "metadata": {},
     "output_type": "execute_result"
    }
   ],
   "source": [
    "def attributes(df):\n",
    "    # new dataframe\n",
    "    new_df = pd.DataFrame(index=df.columns, columns=[\"max_return\", \"max_month\", \"min_return\", \"min_month\"])\n",
    "    \n",
    "    for x in df.columns:\n",
    "        stock_data = df[x]\n",
    "    \n",
    "        max_return = stock_data.max()\n",
    "        max_month = stock_data.idxmax()  \n",
    "        min_return = stock_data.min()\n",
    "        min_month = stock_data.idxmin()  \n",
    "        \n",
    "        new_df.loc[x] = [max_return, max_month, min_return, min_month]\n",
    "    \n",
    "    return new_df\n",
    "\n",
    "attributes(df_groups)"
   ]
  },
  {
   "cell_type": "markdown",
   "id": "79320061",
   "metadata": {},
   "source": [
    "## Question 16. Multi-level Groupby. (5 pts)\n",
    "Using all data in years 2020 and 2021, calcualte the sharpe ratio for each stock within each month within each year. \n",
    "The sharpe ratio is defined as (mean stock return)/(standard deviation of the stock return).\n",
    "For the resulting dataFrame, year and month should be the multi-level index, and the columns are the 4 stocks."
   ]
  },
  {
   "cell_type": "code",
   "execution_count": 17,
   "id": "b6d06db2",
   "metadata": {},
   "outputs": [],
   "source": [
    "## Sadly I am unable to finish 16-18 in time before my shift begins. A time managment fault on my part.\n",
    "\n",
    "# def sharpe(df):\n",
    "    # (df.groupby(df.index.month).mean())/df.groupby(df.index.month).stdev()\n",
    "\n",
    "# df_sharpe_means = mean_return(df_sharpe)\n",
    "\n",
    "# df_sharpe_means\n",
    "\n"
   ]
  },
  {
   "cell_type": "markdown",
   "id": "286c48bc",
   "metadata": {
    "tags": []
   },
   "source": [
    "# Question 17. Merge (5 pts).\n",
    "Based on the result from the previous question, create (A) dataFrame of Sharpe ratio in 2020 and (B) dataFrame of Sharpe ratio in 2021.\n",
    "Then merge (A) dataFrame of Sharpe ratio in 2020 and (B) dataFrame of Sharpe ratio in 2020. \n",
    "The merged keys should be month. Also add suffixes (\"_2020\" and \"_2021\") to distinguish years.\n"
   ]
  },
  {
   "cell_type": "code",
   "execution_count": 18,
   "id": "2a6f15bc",
   "metadata": {},
   "outputs": [],
   "source": [
    "## Sadly I am unable to finish 16-18 in time before my shift begins. A time managment fault on my part.\n"
   ]
  },
  {
   "cell_type": "markdown",
   "id": "851e395b",
   "metadata": {},
   "source": [
    "## Question 18. Combination of skill sets (5 pts).\n",
    "For each of the three year from 2019/1/1 to 2021/12/31, \n",
    "calculate the days differece (in absolute value) between the date with the most positive stock return and the date with the most negative stock return."
   ]
  },
  {
   "cell_type": "code",
   "execution_count": 19,
   "id": "d1c4531b",
   "metadata": {},
   "outputs": [],
   "source": [
    "## Sadly I am unable to finish 16-18 in time before my shift begins. A time managment fault on my part.\n"
   ]
  },
  {
   "cell_type": "markdown",
   "id": "0dda19b3",
   "metadata": {},
   "source": [
    "## Question 19. Data cleaning (5pts). \n",
    "The following dataframe is given. Perform data cleaning, including the following sequencial steps:\n",
    "  - replace -99 to NA\n",
    "  - remove missing value (rows with any missing values)\n",
    "  - remove duplicates\n",
    "  - convert to integer\n",
    "  - use the map function to calculate the sum of all digits for each element of the Series, for each column\n",
    "  - sort by l1 (decending order)\n",
    "\n",
    "\n",
    "\n",
    "\n"
   ]
  },
  {
   "cell_type": "code",
   "execution_count": 20,
   "id": "98643657",
   "metadata": {},
   "outputs": [
    {
     "data": {
      "text/html": [
       "<div>\n",
       "<style scoped>\n",
       "    .dataframe tbody tr th:only-of-type {\n",
       "        vertical-align: middle;\n",
       "    }\n",
       "\n",
       "    .dataframe tbody tr th {\n",
       "        vertical-align: top;\n",
       "    }\n",
       "\n",
       "    .dataframe thead th {\n",
       "        text-align: right;\n",
       "    }\n",
       "</style>\n",
       "<table border=\"1\" class=\"dataframe\">\n",
       "  <thead>\n",
       "    <tr style=\"text-align: right;\">\n",
       "      <th></th>\n",
       "      <th>l1</th>\n",
       "      <th>l2</th>\n",
       "    </tr>\n",
       "  </thead>\n",
       "  <tbody>\n",
       "    <tr>\n",
       "      <th>0</th>\n",
       "      <td>1.0</td>\n",
       "      <td>1.0</td>\n",
       "    </tr>\n",
       "    <tr>\n",
       "      <th>1</th>\n",
       "      <td>2.0</td>\n",
       "      <td>NaN</td>\n",
       "    </tr>\n",
       "    <tr>\n",
       "      <th>2</th>\n",
       "      <td>3.0</td>\n",
       "      <td>3.0</td>\n",
       "    </tr>\n",
       "    <tr>\n",
       "      <th>3</th>\n",
       "      <td>18.0</td>\n",
       "      <td>7.0</td>\n",
       "    </tr>\n",
       "    <tr>\n",
       "      <th>4</th>\n",
       "      <td>13.0</td>\n",
       "      <td>NaN</td>\n",
       "    </tr>\n",
       "  </tbody>\n",
       "</table>\n",
       "</div>"
      ],
      "text/plain": [
       "     l1   l2\n",
       "0   1.0  1.0\n",
       "1   2.0  NaN\n",
       "2   3.0  3.0\n",
       "3  18.0  7.0\n",
       "4  13.0  NaN"
      ]
     },
     "execution_count": 20,
     "metadata": {},
     "output_type": "execute_result"
    }
   ],
   "source": [
    "## This data is given\n",
    "\n",
    "data = pd.DataFrame({\"l1\": [1,2,3,18,13, 1, 15,6,-99,21,3,np.nan], \n",
    "\"l2\": [1,np.nan,3,7,np.nan,1, 5,-99,-99,3,3,9]})\n",
    "data.head()\n"
   ]
  },
  {
   "cell_type": "code",
   "execution_count": 21,
   "id": "1f3e3a28",
   "metadata": {},
   "outputs": [
    {
     "name": "stdout",
     "output_type": "stream",
     "text": [
      "Sum of l1: 58\n",
      "Sum of l2: 19\n",
      "     l1   l2\n",
      "9  21.0  3.0\n",
      "3  18.0  7.0\n",
      "6  15.0  5.0\n",
      "2   3.0  3.0\n",
      "0   1.0  1.0\n"
     ]
    }
   ],
   "source": [
    "data.replace(-99, np.nan, inplace=True)\n",
    "data.dropna(inplace=True)\n",
    "data.drop_duplicates(inplace=True)\n",
    "data.astype(int)\n",
    "\n",
    "print(f\"Sum of l1: {data.l1.map(int).sum()}\")\n",
    "print(f\"Sum of l2: {data.l2.map(int).sum()}\")\n",
    "\n",
    "data.sort_values(by=\"l1\", ascending=False, inplace=True)\n",
    "\n",
    "print(data)"
   ]
  },
  {
   "cell_type": "markdown",
   "id": "551d76b4",
   "metadata": {},
   "source": [
    "## Note (5 pts):\n",
    "\n",
    "\n",
    "\n",
    "### Homework should be uploaded to courseweb:\n",
    "1. Save your compiled result as html file. Rename the file name as: hw5_Lastname_Firstname.html. To save .ipynb as .html, click file -> save and export Notebook as -> html.\n",
    "2. Don't forget to write your name on the top of the html file.\n",
    "3. ipynb file is not required. You only need to upload the html file to the [e-leaning](https://elearning.ufl.edu) website.\n",
    "\n",
    "### If you generate a figure, please write appropriate figure title, labels, legend if necessary.\n",
    "\n",
    "### If your code is not intuitive, please write comments to make the code readible. \n",
    "\n",
    "\n"
   ]
  },
  {
   "cell_type": "code",
   "execution_count": null,
   "id": "bd50c557",
   "metadata": {},
   "outputs": [],
   "source": []
  }
 ],
 "metadata": {
  "kernelspec": {
   "display_name": "Python 3 (ipykernel)",
   "language": "python",
   "name": "python3"
  },
  "language_info": {
   "codemirror_mode": {
    "name": "ipython",
    "version": 3
   },
   "file_extension": ".py",
   "mimetype": "text/x-python",
   "name": "python",
   "nbconvert_exporter": "python",
   "pygments_lexer": "ipython3",
   "version": "3.12.5"
  }
 },
 "nbformat": 4,
 "nbformat_minor": 5
}
