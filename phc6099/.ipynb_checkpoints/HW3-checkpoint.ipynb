{
 "cells": [
  {
   "cell_type": "markdown",
   "id": "f0df9e40",
   "metadata": {},
   "source": [
    "# HW3\n",
    "### Total points: 100 (5% of final grade).\n",
    "### Due: 11:59 pm, Oct 24th Thursday, 2024\n",
    "## Name: Joseph Dickerson"
   ]
  },
  {
   "cell_type": "markdown",
   "id": "547d110c",
   "metadata": {},
   "source": [
    "## Question 1. Basic calculation in python. (8 pts)\n",
    "Calculate $\\sum_{i = 5} ^ {10} (\\frac{2^i}{i^2} + \\frac{3^i}{i^3} + \\frac{4^i}{i^4} + \\frac{5^i}{i^5})$\n"
   ]
  },
  {
   "cell_type": "code",
   "execution_count": 1,
   "id": "df46663d-aa74-44a9-8c41-d45f9fc2338e",
   "metadata": {},
   "outputs": [
    {
     "name": "stdout",
     "output_type": "stream",
     "text": [
      "459.53602990271884\n"
     ]
    }
   ],
   "source": [
    "def huber(n):\n",
    "    result = 0\n",
    "    for i in range(5, n+1):\n",
    "        result += (2**i / i**2) + (3**i / i**3) + (4**i / i**4) + (5**i / i**5)\n",
    "    return result\n",
    "\n",
    "print(huber(10))"
   ]
  },
  {
   "cell_type": "markdown",
   "id": "3cf89bfd",
   "metadata": {},
   "source": [
    "## Question 2. (8 pts)"
   ]
  },
  {
   "cell_type": "markdown",
   "id": "22755379",
   "metadata": {},
   "source": [
    "Write a function that adds the digits in a 2 digit number. e.g. if the input was 39, then the output should be 3 + 9 = 12.\n",
    "In this function, no return value is needed. Just print the result.\n",
    "If your function is f, please execute the following code after your function:\n",
    "f(39). \n"
   ]
  },
  {
   "cell_type": "code",
   "execution_count": 2,
   "id": "f8508dbc",
   "metadata": {},
   "outputs": [
    {
     "name": "stdout",
     "output_type": "stream",
     "text": [
      "12\n"
     ]
    }
   ],
   "source": [
    "def num_sum(x):\n",
    "    print(sum(int(digit) for digit in str(x)))\n",
    "\n",
    "num_sum(39)"
   ]
  },
  {
   "cell_type": "markdown",
   "id": "5501fafa",
   "metadata": {},
   "source": [
    "## Question 3. (8 pts)"
   ]
  },
  {
   "cell_type": "markdown",
   "id": "1ea9c2ab",
   "metadata": {},
   "source": [
    "Write a program that adds the digits in arbitary digit number. e.g. if the input was 32611, then the output should be 3 + 2 + 6 + 1 + 1 = 13. \n",
    "In this function, no return value is needed. Just print the result.\n",
    "If your function is f, please execute the following code  after your function:\n",
    "f(39); f(32611).\n",
    "\n",
    "\n"
   ]
  },
  {
   "cell_type": "code",
   "execution_count": 3,
   "id": "27a249f1",
   "metadata": {},
   "outputs": [
    {
     "name": "stdout",
     "output_type": "stream",
     "text": [
      "12\n",
      "13\n"
     ]
    }
   ],
   "source": [
    "def num_sum(x):\n",
    "    print(sum(int(digit) for digit in str(x)))\n",
    "\n",
    "num_sum(39)\n",
    "num_sum(32611)"
   ]
  },
  {
   "cell_type": "markdown",
   "id": "df20a21d",
   "metadata": {},
   "source": [
    "## Question 4 BMI calculation. (8 pts)"
   ]
  },
  {
   "cell_type": "markdown",
   "id": "5f582a97",
   "metadata": {
    "tags": []
   },
   "source": [
    "Write a function that calculates the Body Mass Index (BMI) from a user's weight and height.\n",
    "The BMI is calculated by dividing a person's weight (in kg) by the square of their height (in m):\n",
    "$BMI = weight / height^2$. \n",
    "In this function, no return value is needed. Just print the following statement:\n",
    "\"Weight: XX kg; Height: XX m; BMI: XX\".\n",
    "Keep 2 digits after the decimal for BMI, and no unit for BMI is needed.\n",
    "If your function is f, please execute the following code after your function:\n",
    "f(80, 1.8); f(64, 1.6). \n",
    "\n",
    "\n"
   ]
  },
  {
   "cell_type": "code",
   "execution_count": 4,
   "id": "37fa8419",
   "metadata": {},
   "outputs": [
    {
     "name": "stdout",
     "output_type": "stream",
     "text": [
      "Weight: 80 kg; Height: 1.8 m; BMI: 24.69.\n",
      "Weight: 64 kg; Height: 1.6 m; BMI: 25.0.\n"
     ]
    }
   ],
   "source": [
    "def bmi (w, h):\n",
    "    return print(f\"Weight: {w} kg; Height: {h} m; BMI: {round((w / h**2), 2)}.\")\n",
    "\n",
    "bmi(80, 1.8)\n",
    "bmi(64, 1.6)"
   ]
  },
  {
   "cell_type": "markdown",
   "id": "442eae71",
   "metadata": {},
   "source": [
    "## Question 5. Huber function. (8 pts)\n",
    "The Huber function <https://en.wikipedia.org/wiki/Huber_loss> is defined as:\n",
    "$$\n",
    "f(x) = \\begin{cases}\n",
    "x^2 & \\text{if $|x| \\leq 1$} \\\\\n",
    "2|x| - 1 & \\text{if $|x| > 1$} \n",
    "\\end{cases}\n",
    "$$\n",
    "The Huber function is quadratic in the interval [-1, 1] (red line in the figure below) and linear outside the interval (blue line in the figure below). The transitioning between these two curves is smooth as you can be verified by taking derivatives. \n",
    "\n",
    "![](https://caleb-huo.github.io/teaching/2017FALL/HW/HW1/huber.png)\n",
    "\n",
    "#### Implement this huber function and Evaluate f(0) + f(1) + f(2)\n"
   ]
  },
  {
   "cell_type": "code",
   "execution_count": 5,
   "id": "50fb7ec8",
   "metadata": {},
   "outputs": [
    {
     "data": {
      "text/plain": [
       "4"
      ]
     },
     "execution_count": 5,
     "metadata": {},
     "output_type": "execute_result"
    }
   ],
   "source": [
    "def huber_arg(x):\n",
    "    if abs(x) <= 1:\n",
    "        return x**2\n",
    "    else:\n",
    "        return 2 * abs(x) - 1\n",
    "\n",
    "huber_arg(0) + huber_arg(1) + huber_arg(2)"
   ]
  },
  {
   "cell_type": "markdown",
   "id": "6411788d",
   "metadata": {},
   "source": [
    "## Question 6. Huber function with two argument. (8 pts) \n",
    "The Huber function can be modified to \n",
    "$$\n",
    "f(x; a) = \\begin{cases}\n",
    "x^2 & \\text{if $|x| \\leq a$} \\\\\n",
    "2a|x| - a^2 & \\text{if $|x| > a$} \n",
    "\\end{cases}\n",
    "$$\n",
    "Rewrite the your Huber function with default value of **a to be 1** (e.g., $a = 1$).\n",
    "Evaluate f(x=1; a=0) + f(x=1; a=1) + f(x=1; a=2) "
   ]
  },
  {
   "cell_type": "code",
   "execution_count": 6,
   "id": "8d4b7ca8",
   "metadata": {},
   "outputs": [
    {
     "data": {
      "text/plain": [
       "2"
      ]
     },
     "execution_count": 6,
     "metadata": {},
     "output_type": "execute_result"
    }
   ],
   "source": [
    "def huber_2arg(x, a = 1):\n",
    "    if abs(x) <= a:\n",
    "        return x**2\n",
    "    else:\n",
    "        return (2 * a * abs(x)) - a**2\n",
    "\n",
    "huber_2arg(1, 0) + huber_2arg(1, 1) + huber_2arg(1, 2)"
   ]
  },
  {
   "cell_type": "markdown",
   "id": "baf354c0",
   "metadata": {},
   "source": [
    "## Question 7. Leap year. (8 pts)\n",
    "\n",
    "Write a program that works out whether if a given year is a leap year. A normal year has 365 days, leap years have 366, with an extra day in February. \n",
    "Here is the rule whether if a particular year is a leap year.\n",
    "\n",
    "- on every year that is evenly divisible by 4 \n",
    "- **except** every year that is evenly divisible by 100 \n",
    "- **unless** the year is also evenly divisible by 400\n",
    "\n",
    "In this function, no return value is needed. Just print \"Leap\" or \"not Leap\".\n",
    "If your function is f, please execute the following code after your function:\n",
    "f(2000); f(2001); f(2004); f(1900). \n"
   ]
  },
  {
   "cell_type": "code",
   "execution_count": 7,
   "id": "9ba77a67",
   "metadata": {},
   "outputs": [
    {
     "name": "stdout",
     "output_type": "stream",
     "text": [
      "Leap\n",
      "Not Leap\n",
      "Leap\n",
      "Not Leap\n"
     ]
    }
   ],
   "source": [
    "def leap(year):\n",
    "    if year % 4 == 0 and year % 100 != 0:\n",
    "        print(\"Leap\")\n",
    "    elif year % 400 == 0:\n",
    "        print(\"Leap\")\n",
    "    else:\n",
    "        print(\"Not Leap\")\n",
    "\n",
    "leap(2000)\n",
    "leap(2001)\n",
    "leap(2004)\n",
    "leap(1900)"
   ]
  },
  {
   "cell_type": "markdown",
   "id": "89a82e9b",
   "metadata": {},
   "source": [
    "## Question 8. American state names manipulation. (8 pts)\n",
    "All states in US are inside a variable state_name below. \n",
    "Firstly remove any space inside the state name (e.g New Mexico becomes NewMexico). \n",
    "For those states with largest number of letters (after removing spaces), \n",
    "flip the state name (flip the state name means “Connecticut becomes tucitcennoC”).\n",
    "Print out all these flipped state names.\n",
    "\n"
   ]
  },
  {
   "cell_type": "code",
   "execution_count": 8,
   "id": "57e66bc3",
   "metadata": {},
   "outputs": [
    {
     "name": "stdout",
     "output_type": "stream",
     "text": [
      "['sttesuhcassaM', 'aniloraChtroN', 'aniloraChtuoS']\n"
     ]
    }
   ],
   "source": [
    "state_names=[\"Alabama\", \"Alaska\", \"Arizona\", \"Arkansas\", \"California\", \"Colorado\", \"Connecticut\", \"Delaware\", \"Florida\", \n",
    "             \"Georgia\", \"Hawaii\", \"Idaho\", \"Illinois\", \"Indiana\", \"Iowa\", \"Kansas\", \"Kentucky\", \"Louisiana\", \"Maine\", \n",
    "             \"Maryland\", \"Massachusetts\", \"Michigan\", \"Minnesota\", \"Mississippi\", \"Missouri\", \"Montana\", \"Nebraska\", \n",
    "             \"Nevada\", \"New Hampshire\", \"New Jersey\", \"New Mexico\", \"New York\", \"North Carolina\", \"North Dakota\", \"Ohio\", \n",
    "             \"Oklahoma\", \"Oregon\", \"Pennsylvania\", \"Rhode Island\", \"South Carolina\", \"South Dakota\", \"Tennessee\", \"Texas\", \n",
    "             \"Utah\", \"Vermont\", \"Virginia\", \"Washington\", \"West Virginia\", \"Wisconsin\", \"Wyoming\"]\n",
    "\n",
    "state_names_2 = [a.replace(\" \", \"\") for a in state_names]\n",
    "\n",
    "max_state_length = max(len(a) for a in state_names_2)\n",
    "\n",
    "max_states = [a for a in state_names_2 if len(a) == max_state_length]\n",
    "\n",
    "rev = [''.join(reversed(a)) for a in max_states]\n",
    "\n",
    "print(rev)\n"
   ]
  },
  {
   "cell_type": "markdown",
   "id": "5195b248",
   "metadata": {},
   "source": [
    "## Question 9. Read files. (8 pts)\n",
    "Read the file https://caleb-huo.github.io/teaching/data/misc/paragraph_names.txt using python.\n",
    "You may consider download a copy on your computer and then read the file.\n",
    "Print out the content of this file.\n"
   ]
  },
  {
   "cell_type": "code",
   "execution_count": 9,
   "id": "1f512673",
   "metadata": {},
   "outputs": [
    {
     "name": "stdout",
     "output_type": "stream",
     "text": [
      "Amy is 5 years old, and her sister Mary is 2 years old. \n",
      "Ruth and Peter, their parents, have 3 kids. \n",
      "Dan, the only son of this family, is just 3 months old.\n"
     ]
    }
   ],
   "source": [
    "file = open(\"paragraph_names.txt\")\n",
    "contents = file.read()\n",
    "print(contents)"
   ]
  },
  {
   "cell_type": "markdown",
   "id": "2652f568",
   "metadata": {},
   "source": [
    "## Question 10. Catch errors. (8 pts)\n",
    "Write a function that can read a txt file.\n",
    "If the file exists, return the content of this file.\n",
    "If the file does not exist, print a message \"file does not exist\", and return -1.\n",
    "If your function is f_read, then evaluate the following: \n",
    "- f_read(\"paragraph_names.txt\")\n",
    "- f_read(\"null.txt\")\n",
    "\n",
    "Note that \"null.txt\" does not exit, so it should return -1. \n"
   ]
  },
  {
   "cell_type": "code",
   "execution_count": 10,
   "id": "a69ade06",
   "metadata": {
    "tags": []
   },
   "outputs": [
    {
     "name": "stdout",
     "output_type": "stream",
     "text": [
      "Amy is 5 years old, and her sister Mary is 2 years old. \n",
      "Ruth and Peter, their parents, have 3 kids. \n",
      "Dan, the only son of this family, is just 3 months old.\n",
      "\n",
      "file does not exist\n"
     ]
    },
    {
     "data": {
      "text/plain": [
       "-1"
      ]
     },
     "execution_count": 10,
     "metadata": {},
     "output_type": "execute_result"
    }
   ],
   "source": [
    "def f_read(file1):\n",
    "    try:\n",
    "        file = open(file1)\n",
    "        contents = file.read()\n",
    "        print(contents)\n",
    "    except:\n",
    "        print(\"file does not exist\")\n",
    "        return -1\n",
    "    else: \n",
    "        contents = file.read()\n",
    "        print(contents)\n",
    "\n",
    "f_read(\"paragraph_names.txt\")\n",
    "f_read(\"null.txt\")"
   ]
  },
  {
   "cell_type": "markdown",
   "id": "42cf7b0d",
   "metadata": {},
   "source": [
    "## Question 11. String pattern detection. (8 pts)\n",
    "For each line of the content, print the entire line if that line ends with \"old.\""
   ]
  },
  {
   "cell_type": "code",
   "execution_count": 11,
   "id": "0a08abd7",
   "metadata": {
    "tags": []
   },
   "outputs": [
    {
     "name": "stdout",
     "output_type": "stream",
     "text": [
      "Amy is 5 years old, and her sister Mary is 2 years old.\n",
      "Dan, the only son of this family, is just 3 months old.\n"
     ]
    }
   ],
   "source": [
    "contents = \"paragraph_names.txt\"\n",
    "\n",
    "with open(contents) as file:\n",
    "    for line in file:\n",
    "        if line.strip().endswith(\"old.\"):\n",
    "            print(line.strip())\n"
   ]
  },
  {
   "cell_type": "markdown",
   "id": "51ef3289",
   "metadata": {},
   "source": [
    "## Question 12. Regular expression. (8 pts)\n",
    "Find a list of all of the names in the file string using regex."
   ]
  },
  {
   "cell_type": "code",
   "execution_count": 12,
   "id": "c868cbe7",
   "metadata": {},
   "outputs": [
    {
     "data": {
      "text/plain": [
       "['Amy', 'Mary', 'Ruth', 'Peter', 'Dan']"
      ]
     },
     "execution_count": 12,
     "metadata": {},
     "output_type": "execute_result"
    }
   ],
   "source": [
    "import re\n",
    "file = open(\"paragraph_names.txt\")\n",
    "contents = file.read()\n",
    "\n",
    "re.findall(\"([A-Z][a-z]+)\", contents)\n"
   ]
  },
  {
   "cell_type": "markdown",
   "id": "b4eb5d21",
   "metadata": {},
   "source": [
    "## Note: (4 pts)\n",
    "\n",
    "\n",
    "\n",
    "### Homework should be uploaded to courseweb:\n",
    "1. Save your compiled result as html file. Rename the file name as: hw3_Lastname_Firstname.html. To save .ipynb as .html, click file -> save and export Notebook as -> html.\n",
    "2. Don't forget to write your name on the top of the html file.\n",
    "3. ipynb file is not required. You only need to upload the html file to the [e-leaning](https://elearning.ufl.edu) website.\n",
    "\n",
    "### If you generate a figure, please write appropriate figure title, labels, legend if necessary.\n",
    "\n",
    "### If your code is not intuitive, please write comments to make the code readible. \n",
    "\n",
    "\n"
   ]
  }
 ],
 "metadata": {
  "kernelspec": {
   "display_name": "Python 3 (ipykernel)",
   "language": "python",
   "name": "python3"
  },
  "language_info": {
   "codemirror_mode": {
    "name": "ipython",
    "version": 3
   },
   "file_extension": ".py",
   "mimetype": "text/x-python",
   "name": "python",
   "nbconvert_exporter": "python",
   "pygments_lexer": "ipython3",
   "version": "3.12.5"
  }
 },
 "nbformat": 4,
 "nbformat_minor": 5
}
